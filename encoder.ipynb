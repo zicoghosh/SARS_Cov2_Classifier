{
 "cells": [
  {
   "cell_type": "markdown",
   "metadata": {},
   "source": [
    "## ENCODE SEQUENCE"
   ]
  },
  {
   "cell_type": "code",
   "execution_count": 1,
   "metadata": {},
   "outputs": [],
   "source": [
    "import pandas as pd\n",
    "from Bio.SeqIO import parse\n",
    "from Bio.SeqRecord import SeqRecord\n",
    "from Bio.Seq import Seq\n",
    "\n",
    "from sklearn.preprocessing import LabelEncoder\n",
    "\n",
    "import numpy as np\n",
    "import re"
   ]
  },
  {
   "cell_type": "code",
   "execution_count": 2,
   "metadata": {},
   "outputs": [
    {
     "data": {
      "text/html": [
       "<div>\n",
       "<style scoped>\n",
       "    .dataframe tbody tr th:only-of-type {\n",
       "        vertical-align: middle;\n",
       "    }\n",
       "\n",
       "    .dataframe tbody tr th {\n",
       "        vertical-align: top;\n",
       "    }\n",
       "\n",
       "    .dataframe thead th {\n",
       "        text-align: right;\n",
       "    }\n",
       "</style>\n",
       "<table border=\"1\" class=\"dataframe\">\n",
       "  <thead>\n",
       "    <tr style=\"text-align: right;\">\n",
       "      <th></th>\n",
       "      <th>Accession</th>\n",
       "      <th>Release_Date</th>\n",
       "      <th>Species</th>\n",
       "      <th>Length</th>\n",
       "      <th>Geo_Location</th>\n",
       "      <th>Host</th>\n",
       "      <th>Isolation_Source</th>\n",
       "      <th>Collection_Date</th>\n",
       "      <th>Sequence</th>\n",
       "    </tr>\n",
       "  </thead>\n",
       "  <tbody>\n",
       "    <tr>\n",
       "      <th>0</th>\n",
       "      <td>MT683386</td>\n",
       "      <td>2020-07-01T00:00:00Z</td>\n",
       "      <td>Severe acute respiratory syndrome-related coro...</td>\n",
       "      <td>29858</td>\n",
       "      <td>USA</td>\n",
       "      <td>Homo sapiens</td>\n",
       "      <td>NaN</td>\n",
       "      <td>2020-04-05</td>\n",
       "      <td>GGTTTATACCTTCCCAGGTAACAAACCAACCAACTTTCGATCTCTT...</td>\n",
       "    </tr>\n",
       "  </tbody>\n",
       "</table>\n",
       "</div>"
      ],
      "text/plain": [
       "  Accession          Release_Date  \\\n",
       "0  MT683386  2020-07-01T00:00:00Z   \n",
       "\n",
       "                                             Species  Length Geo_Location  \\\n",
       "0  Severe acute respiratory syndrome-related coro...   29858          USA   \n",
       "\n",
       "           Host Isolation_Source Collection_Date  \\\n",
       "0  Homo sapiens              NaN      2020-04-05   \n",
       "\n",
       "                                            Sequence  \n",
       "0  GGTTTATACCTTCCCAGGTAACAAACCAACCAACTTTCGATCTCTT...  "
      ]
     },
     "execution_count": 2,
     "metadata": {},
     "output_type": "execute_result"
    }
   ],
   "source": [
    "path=\"final_updated_classes.csv\"\n",
    "\n",
    "data_df=pd.read_csv(path)\n",
    "\n",
    "data_df.head(1)"
   ]
  },
  {
   "cell_type": "markdown",
   "metadata": {},
   "source": [
    "function to convert a **DNA sequence** string to a **numpy array**\n",
    "\n",
    "converts to lower case, changes any non *'acgt'** characters to **'n'**"
   ]
  },
  {
   "cell_type": "code",
   "execution_count": 3,
   "metadata": {},
   "outputs": [],
   "source": [
    "def string_to_array(my_string):\n",
    "    my_string = my_string.lower()\n",
    "    my_string = re.sub('[^acgt]', 'z', my_string)\n",
    "    my_array = np.array(list(my_string))\n",
    "    return my_array"
   ]
  },
  {
   "cell_type": "markdown",
   "metadata": {},
   "source": [
    "create a label encoder with **'acgtn'** alphabet"
   ]
  },
  {
   "cell_type": "code",
   "execution_count": 4,
   "metadata": {},
   "outputs": [
    {
     "data": {
      "text/plain": [
       "LabelEncoder()"
      ]
     },
     "execution_count": 4,
     "metadata": {},
     "output_type": "execute_result"
    }
   ],
   "source": [
    "label_encoder = LabelEncoder()\n",
    "label_encoder.fit(np.array(['a','c','g','t','z']))"
   ]
  },
  {
   "cell_type": "markdown",
   "metadata": {},
   "source": [
    "function to encode a DNA sequence string as an **ordinal vector**\n",
    "\n",
    "returns a **numpy vector** with **a=0.25, c=0.50, g=0.75, t=1.00, n=0.00**"
   ]
  },
  {
   "cell_type": "code",
   "execution_count": 5,
   "metadata": {},
   "outputs": [],
   "source": [
    "def ordinal_encoder(my_array):\n",
    "    \n",
    "    integer_encoded = label_encoder.transform(my_array)\n",
    "    float_encoded = integer_encoded.astype(float)\n",
    "    float_encoded[float_encoded == 0] = 0.25 # A\n",
    "    float_encoded[float_encoded == 1] = 0.50 # C\n",
    "    float_encoded[float_encoded == 2] = 0.75 # G\n",
    "    float_encoded[float_encoded == 3] = 1.00 # T\n",
    "    float_encoded[float_encoded == 4] = 0.00 # anything else, z\n",
    "    \n",
    "    return float_encoded"
   ]
  },
  {
   "cell_type": "markdown",
   "metadata": {},
   "source": [
    "Creating **final_data** dataframe with **'encoded-sequence'** and **'Geo_location'** columns"
   ]
  },
  {
   "cell_type": "code",
   "execution_count": 6,
   "metadata": {},
   "outputs": [
    {
     "data": {
      "text/html": [
       "<div>\n",
       "<style scoped>\n",
       "    .dataframe tbody tr th:only-of-type {\n",
       "        vertical-align: middle;\n",
       "    }\n",
       "\n",
       "    .dataframe tbody tr th {\n",
       "        vertical-align: top;\n",
       "    }\n",
       "\n",
       "    .dataframe thead th {\n",
       "        text-align: right;\n",
       "    }\n",
       "</style>\n",
       "<table border=\"1\" class=\"dataframe\">\n",
       "  <thead>\n",
       "    <tr style=\"text-align: right;\">\n",
       "      <th></th>\n",
       "      <th>enc_seq</th>\n",
       "      <th>Geo_Location</th>\n",
       "    </tr>\n",
       "  </thead>\n",
       "  <tbody>\n",
       "    <tr>\n",
       "      <th>0</th>\n",
       "      <td>[0.75, 0.75, 1.0, 1.0, 1.0, 0.25, 1.0, 0.25, 0...</td>\n",
       "      <td>USA</td>\n",
       "    </tr>\n",
       "    <tr>\n",
       "      <th>1</th>\n",
       "      <td>[0.25, 1.0, 0.25, 0.5, 0.5, 1.0, 1.0, 0.5, 0.5...</td>\n",
       "      <td>USA</td>\n",
       "    </tr>\n",
       "    <tr>\n",
       "      <th>2</th>\n",
       "      <td>[0.25, 0.25, 0.75, 0.75, 1.0, 1.0, 1.0, 0.25, ...</td>\n",
       "      <td>USA</td>\n",
       "    </tr>\n",
       "    <tr>\n",
       "      <th>3</th>\n",
       "      <td>[0.75, 0.75, 1.0, 0.25, 0.25, 0.5, 0.25, 0.25,...</td>\n",
       "      <td>USA</td>\n",
       "    </tr>\n",
       "    <tr>\n",
       "      <th>4</th>\n",
       "      <td>[0.75, 0.5, 1.0, 1.0, 0.25, 0.5, 0.75, 0.75, 1...</td>\n",
       "      <td>USA</td>\n",
       "    </tr>\n",
       "    <tr>\n",
       "      <th>...</th>\n",
       "      <td>...</td>\n",
       "      <td>...</td>\n",
       "    </tr>\n",
       "    <tr>\n",
       "      <th>5592</th>\n",
       "      <td>[0.25, 1.0, 1.0, 0.25, 0.25, 0.25, 0.75, 0.75,...</td>\n",
       "      <td>California</td>\n",
       "    </tr>\n",
       "    <tr>\n",
       "      <th>5593</th>\n",
       "      <td>[0.25, 1.0, 1.0, 0.25, 0.25, 0.25, 0.75, 0.75,...</td>\n",
       "      <td>California</td>\n",
       "    </tr>\n",
       "    <tr>\n",
       "      <th>5594</th>\n",
       "      <td>[0.25, 1.0, 1.0, 0.25, 0.25, 0.25, 0.75, 0.75,...</td>\n",
       "      <td>Others</td>\n",
       "    </tr>\n",
       "    <tr>\n",
       "      <th>5595</th>\n",
       "      <td>[0.25, 1.0, 1.0, 0.25, 0.25, 0.25, 0.75, 0.75,...</td>\n",
       "      <td>Others</td>\n",
       "    </tr>\n",
       "    <tr>\n",
       "      <th>5596</th>\n",
       "      <td>[0.25, 1.0, 1.0, 0.25, 0.25, 0.25, 0.75, 0.75,...</td>\n",
       "      <td>USA</td>\n",
       "    </tr>\n",
       "  </tbody>\n",
       "</table>\n",
       "<p>5597 rows × 2 columns</p>\n",
       "</div>"
      ],
      "text/plain": [
       "                                                enc_seq Geo_Location\n",
       "0     [0.75, 0.75, 1.0, 1.0, 1.0, 0.25, 1.0, 0.25, 0...          USA\n",
       "1     [0.25, 1.0, 0.25, 0.5, 0.5, 1.0, 1.0, 0.5, 0.5...          USA\n",
       "2     [0.25, 0.25, 0.75, 0.75, 1.0, 1.0, 1.0, 0.25, ...          USA\n",
       "3     [0.75, 0.75, 1.0, 0.25, 0.25, 0.5, 0.25, 0.25,...          USA\n",
       "4     [0.75, 0.5, 1.0, 1.0, 0.25, 0.5, 0.75, 0.75, 1...          USA\n",
       "...                                                 ...          ...\n",
       "5592  [0.25, 1.0, 1.0, 0.25, 0.25, 0.25, 0.75, 0.75,...   California\n",
       "5593  [0.25, 1.0, 1.0, 0.25, 0.25, 0.25, 0.75, 0.75,...   California\n",
       "5594  [0.25, 1.0, 1.0, 0.25, 0.25, 0.25, 0.75, 0.75,...       Others\n",
       "5595  [0.25, 1.0, 1.0, 0.25, 0.25, 0.25, 0.75, 0.75,...       Others\n",
       "5596  [0.25, 1.0, 1.0, 0.25, 0.25, 0.25, 0.75, 0.75,...          USA\n",
       "\n",
       "[5597 rows x 2 columns]"
      ]
     },
     "execution_count": 6,
     "metadata": {},
     "output_type": "execute_result"
    }
   ],
   "source": [
    "data=data_df[[\"Sequence\",\"Geo_Location\"]]\n",
    "data=data[data[\"Sequence\"].notna()]\n",
    "\n",
    "dummy=[]\n",
    "dum=np.array(dummy)\n",
    "\n",
    "form={\"inp_seq\":dum}\n",
    "\n",
    "seq_df = pd.DataFrame (form, columns = ['inp_seq'])\n",
    "\n",
    "seq_list=[]\n",
    "\n",
    "for idx, seq in enumerate(list(data[\"Sequence\"])):\n",
    "    arr=ordinal_encoder(string_to_array(seq))\n",
    "    seq_list.append(arr)\n",
    "    \n",
    "seq_df[\"inp_seq\"]=seq_list\n",
    "\n",
    "final_data= data.assign(enc_seq=seq_df)\n",
    "\n",
    "final_data=final_data[[\"enc_seq\",\"Geo_Location\"]]\n",
    "\n",
    "final_data"
   ]
  },
  {
   "cell_type": "markdown",
   "metadata": {},
   "source": [
    "Function to return max length of sequence in final_data:"
   ]
  },
  {
   "cell_type": "code",
   "execution_count": 7,
   "metadata": {},
   "outputs": [],
   "source": [
    "def get_maxLen(enc_seq):\n",
    "    \n",
    "    max=0\n",
    "    for row in enc_seq:\n",
    "        #print(type(row))\n",
    "        if(len(row)>max):\n",
    "            max=len(row)\n",
    "    \n",
    "    \n",
    "    return max"
   ]
  },
  {
   "cell_type": "markdown",
   "metadata": {},
   "source": [
    "Function to append trailing zeros to each seq vector"
   ]
  },
  {
   "cell_type": "code",
   "execution_count": 8,
   "metadata": {},
   "outputs": [],
   "source": [
    "def append_arr(enc_seq, max_len):\n",
    "    \n",
    "    seq_l=list(enc_seq)\n",
    "    for i in range(len(seq_l),max_len):\n",
    "        seq_l.append(0)\n",
    "        \n",
    "    new_seq_ar=np.array(seq_l)\n",
    "\n",
    "        \n",
    "    return new_seq_ar"
   ]
  },
  {
   "cell_type": "markdown",
   "metadata": {},
   "source": [
    "Padding the encoded seq with trailing zeros so all vectors are of same dimension"
   ]
  },
  {
   "cell_type": "code",
   "execution_count": 9,
   "metadata": {},
   "outputs": [
    {
     "name": "stdout",
     "output_type": "stream",
     "text": [
      "max_len is 29922\n"
     ]
    },
    {
     "data": {
      "text/html": [
       "<div>\n",
       "<style scoped>\n",
       "    .dataframe tbody tr th:only-of-type {\n",
       "        vertical-align: middle;\n",
       "    }\n",
       "\n",
       "    .dataframe tbody tr th {\n",
       "        vertical-align: top;\n",
       "    }\n",
       "\n",
       "    .dataframe thead th {\n",
       "        text-align: right;\n",
       "    }\n",
       "</style>\n",
       "<table border=\"1\" class=\"dataframe\">\n",
       "  <thead>\n",
       "    <tr style=\"text-align: right;\">\n",
       "      <th></th>\n",
       "      <th>padded_enc_seq</th>\n",
       "      <th>Geo_Location</th>\n",
       "    </tr>\n",
       "  </thead>\n",
       "  <tbody>\n",
       "    <tr>\n",
       "      <th>0</th>\n",
       "      <td>[0.75, 0.75, 1.0, 1.0, 1.0, 0.25, 1.0, 0.25, 0...</td>\n",
       "      <td>USA</td>\n",
       "    </tr>\n",
       "    <tr>\n",
       "      <th>1</th>\n",
       "      <td>[0.25, 1.0, 0.25, 0.5, 0.5, 1.0, 1.0, 0.5, 0.5...</td>\n",
       "      <td>USA</td>\n",
       "    </tr>\n",
       "    <tr>\n",
       "      <th>2</th>\n",
       "      <td>[0.25, 0.25, 0.75, 0.75, 1.0, 1.0, 1.0, 0.25, ...</td>\n",
       "      <td>USA</td>\n",
       "    </tr>\n",
       "    <tr>\n",
       "      <th>3</th>\n",
       "      <td>[0.75, 0.75, 1.0, 0.25, 0.25, 0.5, 0.25, 0.25,...</td>\n",
       "      <td>USA</td>\n",
       "    </tr>\n",
       "    <tr>\n",
       "      <th>4</th>\n",
       "      <td>[0.75, 0.5, 1.0, 1.0, 0.25, 0.5, 0.75, 0.75, 1...</td>\n",
       "      <td>USA</td>\n",
       "    </tr>\n",
       "  </tbody>\n",
       "</table>\n",
       "</div>"
      ],
      "text/plain": [
       "                                      padded_enc_seq Geo_Location\n",
       "0  [0.75, 0.75, 1.0, 1.0, 1.0, 0.25, 1.0, 0.25, 0...          USA\n",
       "1  [0.25, 1.0, 0.25, 0.5, 0.5, 1.0, 1.0, 0.5, 0.5...          USA\n",
       "2  [0.25, 0.25, 0.75, 0.75, 1.0, 1.0, 1.0, 0.25, ...          USA\n",
       "3  [0.75, 0.75, 1.0, 0.25, 0.25, 0.5, 0.25, 0.25,...          USA\n",
       "4  [0.75, 0.5, 1.0, 1.0, 0.25, 0.5, 0.75, 0.75, 1...          USA"
      ]
     },
     "execution_count": 9,
     "metadata": {},
     "output_type": "execute_result"
    }
   ],
   "source": [
    "max_len=get_maxLen(final_data[\"enc_seq\"])\n",
    "if max_len%2 != 0:\n",
    "    max_len+=1\n",
    "print(\"max_len is\",max_len)\n",
    "\n",
    "padded_seq_list=[]\n",
    "\n",
    "for index, row in final_data.iterrows():\n",
    "    seq_ar=append_arr(row[\"enc_seq\"],max_len)\n",
    "    padded_seq_list.append(seq_ar)\n",
    "#     if(len(seq_ar) not in list_len):\n",
    "#         list_len.append(len(seq_ar))\n",
    "#    row[\"padded_encSeq\"]=seq_ar\n",
    "\n",
    "\n",
    "dummy=[]\n",
    "dum=np.array(dummy)\n",
    "form={\"padded_enc_seq\":dum}\n",
    "padded_seq_df = pd.DataFrame (form, columns = ['padded_enc_seq'])\n",
    "\n",
    "padded_seq_df[\"padded_enc_seq\"]=padded_seq_list\n",
    "\n",
    "padded_final_data= final_data.assign(padded_enc_seq=padded_seq_df)\n",
    "\n",
    "padded_final_data=padded_final_data[[\"padded_enc_seq\",\"Geo_Location\"]]\n",
    "\n",
    "padded_final_data.head(5)"
   ]
  },
  {
   "cell_type": "code",
   "execution_count": 10,
   "metadata": {},
   "outputs": [
    {
     "data": {
      "text/html": [
       "<div>\n",
       "<style scoped>\n",
       "    .dataframe tbody tr th:only-of-type {\n",
       "        vertical-align: middle;\n",
       "    }\n",
       "\n",
       "    .dataframe tbody tr th {\n",
       "        vertical-align: top;\n",
       "    }\n",
       "\n",
       "    .dataframe thead th {\n",
       "        text-align: right;\n",
       "    }\n",
       "</style>\n",
       "<table border=\"1\" class=\"dataframe\">\n",
       "  <thead>\n",
       "    <tr style=\"text-align: right;\">\n",
       "      <th></th>\n",
       "      <th>padded_enc_seq</th>\n",
       "      <th>California</th>\n",
       "      <th>Connecticut</th>\n",
       "      <th>Florida</th>\n",
       "      <th>King WA</th>\n",
       "      <th>Masachusetts</th>\n",
       "      <th>Michigan</th>\n",
       "      <th>New York</th>\n",
       "      <th>Others</th>\n",
       "      <th>Rest of Washington</th>\n",
       "      <th>Snohomish_Pierce WA</th>\n",
       "      <th>USA</th>\n",
       "      <th>Virginia</th>\n",
       "      <th>Yakima WA</th>\n",
       "    </tr>\n",
       "  </thead>\n",
       "  <tbody>\n",
       "    <tr>\n",
       "      <th>0</th>\n",
       "      <td>[0.75, 0.75, 1.0, 1.0, 1.0, 0.25, 1.0, 0.25, 0...</td>\n",
       "      <td>0</td>\n",
       "      <td>0</td>\n",
       "      <td>0</td>\n",
       "      <td>0</td>\n",
       "      <td>0</td>\n",
       "      <td>0</td>\n",
       "      <td>0</td>\n",
       "      <td>0</td>\n",
       "      <td>0</td>\n",
       "      <td>0</td>\n",
       "      <td>1</td>\n",
       "      <td>0</td>\n",
       "      <td>0</td>\n",
       "    </tr>\n",
       "    <tr>\n",
       "      <th>1</th>\n",
       "      <td>[0.25, 1.0, 0.25, 0.5, 0.5, 1.0, 1.0, 0.5, 0.5...</td>\n",
       "      <td>0</td>\n",
       "      <td>0</td>\n",
       "      <td>0</td>\n",
       "      <td>0</td>\n",
       "      <td>0</td>\n",
       "      <td>0</td>\n",
       "      <td>0</td>\n",
       "      <td>0</td>\n",
       "      <td>0</td>\n",
       "      <td>0</td>\n",
       "      <td>1</td>\n",
       "      <td>0</td>\n",
       "      <td>0</td>\n",
       "    </tr>\n",
       "    <tr>\n",
       "      <th>2</th>\n",
       "      <td>[0.25, 0.25, 0.75, 0.75, 1.0, 1.0, 1.0, 0.25, ...</td>\n",
       "      <td>0</td>\n",
       "      <td>0</td>\n",
       "      <td>0</td>\n",
       "      <td>0</td>\n",
       "      <td>0</td>\n",
       "      <td>0</td>\n",
       "      <td>0</td>\n",
       "      <td>0</td>\n",
       "      <td>0</td>\n",
       "      <td>0</td>\n",
       "      <td>1</td>\n",
       "      <td>0</td>\n",
       "      <td>0</td>\n",
       "    </tr>\n",
       "    <tr>\n",
       "      <th>3</th>\n",
       "      <td>[0.75, 0.75, 1.0, 0.25, 0.25, 0.5, 0.25, 0.25,...</td>\n",
       "      <td>0</td>\n",
       "      <td>0</td>\n",
       "      <td>0</td>\n",
       "      <td>0</td>\n",
       "      <td>0</td>\n",
       "      <td>0</td>\n",
       "      <td>0</td>\n",
       "      <td>0</td>\n",
       "      <td>0</td>\n",
       "      <td>0</td>\n",
       "      <td>1</td>\n",
       "      <td>0</td>\n",
       "      <td>0</td>\n",
       "    </tr>\n",
       "    <tr>\n",
       "      <th>4</th>\n",
       "      <td>[0.75, 0.5, 1.0, 1.0, 0.25, 0.5, 0.75, 0.75, 1...</td>\n",
       "      <td>0</td>\n",
       "      <td>0</td>\n",
       "      <td>0</td>\n",
       "      <td>0</td>\n",
       "      <td>0</td>\n",
       "      <td>0</td>\n",
       "      <td>0</td>\n",
       "      <td>0</td>\n",
       "      <td>0</td>\n",
       "      <td>0</td>\n",
       "      <td>1</td>\n",
       "      <td>0</td>\n",
       "      <td>0</td>\n",
       "    </tr>\n",
       "    <tr>\n",
       "      <th>...</th>\n",
       "      <td>...</td>\n",
       "      <td>...</td>\n",
       "      <td>...</td>\n",
       "      <td>...</td>\n",
       "      <td>...</td>\n",
       "      <td>...</td>\n",
       "      <td>...</td>\n",
       "      <td>...</td>\n",
       "      <td>...</td>\n",
       "      <td>...</td>\n",
       "      <td>...</td>\n",
       "      <td>...</td>\n",
       "      <td>...</td>\n",
       "      <td>...</td>\n",
       "    </tr>\n",
       "    <tr>\n",
       "      <th>5592</th>\n",
       "      <td>[0.25, 1.0, 1.0, 0.25, 0.25, 0.25, 0.75, 0.75,...</td>\n",
       "      <td>1</td>\n",
       "      <td>0</td>\n",
       "      <td>0</td>\n",
       "      <td>0</td>\n",
       "      <td>0</td>\n",
       "      <td>0</td>\n",
       "      <td>0</td>\n",
       "      <td>0</td>\n",
       "      <td>0</td>\n",
       "      <td>0</td>\n",
       "      <td>0</td>\n",
       "      <td>0</td>\n",
       "      <td>0</td>\n",
       "    </tr>\n",
       "    <tr>\n",
       "      <th>5593</th>\n",
       "      <td>[0.25, 1.0, 1.0, 0.25, 0.25, 0.25, 0.75, 0.75,...</td>\n",
       "      <td>1</td>\n",
       "      <td>0</td>\n",
       "      <td>0</td>\n",
       "      <td>0</td>\n",
       "      <td>0</td>\n",
       "      <td>0</td>\n",
       "      <td>0</td>\n",
       "      <td>0</td>\n",
       "      <td>0</td>\n",
       "      <td>0</td>\n",
       "      <td>0</td>\n",
       "      <td>0</td>\n",
       "      <td>0</td>\n",
       "    </tr>\n",
       "    <tr>\n",
       "      <th>5594</th>\n",
       "      <td>[0.25, 1.0, 1.0, 0.25, 0.25, 0.25, 0.75, 0.75,...</td>\n",
       "      <td>0</td>\n",
       "      <td>0</td>\n",
       "      <td>0</td>\n",
       "      <td>0</td>\n",
       "      <td>0</td>\n",
       "      <td>0</td>\n",
       "      <td>0</td>\n",
       "      <td>1</td>\n",
       "      <td>0</td>\n",
       "      <td>0</td>\n",
       "      <td>0</td>\n",
       "      <td>0</td>\n",
       "      <td>0</td>\n",
       "    </tr>\n",
       "    <tr>\n",
       "      <th>5595</th>\n",
       "      <td>[0.25, 1.0, 1.0, 0.25, 0.25, 0.25, 0.75, 0.75,...</td>\n",
       "      <td>0</td>\n",
       "      <td>0</td>\n",
       "      <td>0</td>\n",
       "      <td>0</td>\n",
       "      <td>0</td>\n",
       "      <td>0</td>\n",
       "      <td>0</td>\n",
       "      <td>1</td>\n",
       "      <td>0</td>\n",
       "      <td>0</td>\n",
       "      <td>0</td>\n",
       "      <td>0</td>\n",
       "      <td>0</td>\n",
       "    </tr>\n",
       "    <tr>\n",
       "      <th>5596</th>\n",
       "      <td>[0.25, 1.0, 1.0, 0.25, 0.25, 0.25, 0.75, 0.75,...</td>\n",
       "      <td>0</td>\n",
       "      <td>0</td>\n",
       "      <td>0</td>\n",
       "      <td>0</td>\n",
       "      <td>0</td>\n",
       "      <td>0</td>\n",
       "      <td>0</td>\n",
       "      <td>0</td>\n",
       "      <td>0</td>\n",
       "      <td>0</td>\n",
       "      <td>1</td>\n",
       "      <td>0</td>\n",
       "      <td>0</td>\n",
       "    </tr>\n",
       "  </tbody>\n",
       "</table>\n",
       "<p>5597 rows × 14 columns</p>\n",
       "</div>"
      ],
      "text/plain": [
       "                                         padded_enc_seq  California  \\\n",
       "0     [0.75, 0.75, 1.0, 1.0, 1.0, 0.25, 1.0, 0.25, 0...           0   \n",
       "1     [0.25, 1.0, 0.25, 0.5, 0.5, 1.0, 1.0, 0.5, 0.5...           0   \n",
       "2     [0.25, 0.25, 0.75, 0.75, 1.0, 1.0, 1.0, 0.25, ...           0   \n",
       "3     [0.75, 0.75, 1.0, 0.25, 0.25, 0.5, 0.25, 0.25,...           0   \n",
       "4     [0.75, 0.5, 1.0, 1.0, 0.25, 0.5, 0.75, 0.75, 1...           0   \n",
       "...                                                 ...         ...   \n",
       "5592  [0.25, 1.0, 1.0, 0.25, 0.25, 0.25, 0.75, 0.75,...           1   \n",
       "5593  [0.25, 1.0, 1.0, 0.25, 0.25, 0.25, 0.75, 0.75,...           1   \n",
       "5594  [0.25, 1.0, 1.0, 0.25, 0.25, 0.25, 0.75, 0.75,...           0   \n",
       "5595  [0.25, 1.0, 1.0, 0.25, 0.25, 0.25, 0.75, 0.75,...           0   \n",
       "5596  [0.25, 1.0, 1.0, 0.25, 0.25, 0.25, 0.75, 0.75,...           0   \n",
       "\n",
       "      Connecticut  Florida  King WA  Masachusetts  Michigan  New York  Others  \\\n",
       "0               0        0        0             0         0         0       0   \n",
       "1               0        0        0             0         0         0       0   \n",
       "2               0        0        0             0         0         0       0   \n",
       "3               0        0        0             0         0         0       0   \n",
       "4               0        0        0             0         0         0       0   \n",
       "...           ...      ...      ...           ...       ...       ...     ...   \n",
       "5592            0        0        0             0         0         0       0   \n",
       "5593            0        0        0             0         0         0       0   \n",
       "5594            0        0        0             0         0         0       1   \n",
       "5595            0        0        0             0         0         0       1   \n",
       "5596            0        0        0             0         0         0       0   \n",
       "\n",
       "      Rest of Washington  Snohomish_Pierce WA  USA  Virginia  Yakima WA  \n",
       "0                      0                    0    1         0          0  \n",
       "1                      0                    0    1         0          0  \n",
       "2                      0                    0    1         0          0  \n",
       "3                      0                    0    1         0          0  \n",
       "4                      0                    0    1         0          0  \n",
       "...                  ...                  ...  ...       ...        ...  \n",
       "5592                   0                    0    0         0          0  \n",
       "5593                   0                    0    0         0          0  \n",
       "5594                   0                    0    0         0          0  \n",
       "5595                   0                    0    0         0          0  \n",
       "5596                   0                    0    1         0          0  \n",
       "\n",
       "[5597 rows x 14 columns]"
      ]
     },
     "execution_count": 10,
     "metadata": {},
     "output_type": "execute_result"
    }
   ],
   "source": [
    "one_hot_encodings= pd.get_dummies(padded_final_data[\"Geo_Location\"])\n",
    "padded_final_data = padded_final_data.drop(\"Geo_Location\",axis=1)\n",
    "padded_final_data = padded_final_data.join(one_hot_encodings)\n",
    "padded_final_data"
   ]
  },
  {
   "cell_type": "code",
   "execution_count": 11,
   "metadata": {},
   "outputs": [
    {
     "name": "stdout",
     "output_type": "stream",
     "text": [
      "(5597,)\n",
      "(5597, 13)\n"
     ]
    }
   ],
   "source": [
    "X = np.array(padded_final_data[\"padded_enc_seq\"])\n",
    "Y = np.array(one_hot_encodings)\n",
    "print(X.shape)\n",
    "print(Y.shape)"
   ]
  },
  {
   "cell_type": "markdown",
   "metadata": {},
   "source": [
    "Function to reshape 1D seq vectors to 2D vectors according to given parameters"
   ]
  },
  {
   "cell_type": "code",
   "execution_count": 12,
   "metadata": {},
   "outputs": [],
   "source": [
    "def reshape_seq(seq, m ,n):\n",
    "    \n",
    "    r_seq=np.reshape(seq,(m,n))\n",
    "    \n",
    "    return r_seq\n",
    "\n",
    "re_seqList=[]\n",
    "\n",
    "for index, row in padded_final_data.iterrows():\n",
    "    seq_ar=reshape_seq(row[\"padded_enc_seq\"],6,4987)\n",
    "    re_seqList.append(seq_ar)"
   ]
  },
  {
   "cell_type": "markdown",
   "metadata": {},
   "source": [
    "Convert to desired shapes"
   ]
  },
  {
   "cell_type": "code",
   "execution_count": 13,
   "metadata": {},
   "outputs": [
    {
     "data": {
      "text/plain": [
       "(5597, 6, 4987, 1)"
      ]
     },
     "execution_count": 13,
     "metadata": {},
     "output_type": "execute_result"
    }
   ],
   "source": [
    "X = np.asarray(re_seqList)\n",
    "X = np.reshape(X, (X.shape[0], X.shape[1], X.shape[2], 1))\n",
    "X.shape"
   ]
  },
  {
   "cell_type": "code",
   "execution_count": 14,
   "metadata": {},
   "outputs": [
    {
     "data": {
      "text/plain": [
       "(5597,)"
      ]
     },
     "execution_count": 14,
     "metadata": {},
     "output_type": "execute_result"
    }
   ],
   "source": [
    "Y = padded_final_data['Geo_Location'].values\n",
    "Y.shape"
   ]
  },
  {
   "cell_type": "code",
   "execution_count": 13,
   "metadata": {},
   "outputs": [],
   "source": [
    "np.save('X_data', X)\n",
    "np.save('Y_data', Y)"
   ]
  }
 ],
 "metadata": {
  "kernelspec": {
   "display_name": "Python 3",
   "language": "python",
   "name": "python3"
  },
  "language_info": {
   "codemirror_mode": {
    "name": "ipython",
    "version": 3
   },
   "file_extension": ".py",
   "mimetype": "text/x-python",
   "name": "python",
   "nbconvert_exporter": "python",
   "pygments_lexer": "ipython3",
   "version": "3.8.2"
  }
 },
 "nbformat": 4,
 "nbformat_minor": 4
}
