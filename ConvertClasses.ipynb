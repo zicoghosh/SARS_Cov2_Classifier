{
 "cells": [
  {
   "cell_type": "markdown",
   "metadata": {},
   "source": [
    "# Modify Class Names"
   ]
  },
  {
   "cell_type": "code",
   "execution_count": 1,
   "metadata": {},
   "outputs": [],
   "source": [
    "import numpy as np\n",
    "import pandas as pd\n",
    "from collections import Counter \n",
    "import warnings; \n",
    "warnings.simplefilter('ignore')"
   ]
  },
  {
   "cell_type": "code",
   "execution_count": 2,
   "metadata": {},
   "outputs": [],
   "source": [
    "df = pd.read_csv(\"final.csv\")"
   ]
  },
  {
   "cell_type": "code",
   "execution_count": 3,
   "metadata": {},
   "outputs": [
    {
     "data": {
      "text/html": [
       "<div>\n",
       "<style scoped>\n",
       "    .dataframe tbody tr th:only-of-type {\n",
       "        vertical-align: middle;\n",
       "    }\n",
       "\n",
       "    .dataframe tbody tr th {\n",
       "        vertical-align: top;\n",
       "    }\n",
       "\n",
       "    .dataframe thead th {\n",
       "        text-align: right;\n",
       "    }\n",
       "</style>\n",
       "<table border=\"1\" class=\"dataframe\">\n",
       "  <thead>\n",
       "    <tr style=\"text-align: right;\">\n",
       "      <th></th>\n",
       "      <th>Accession</th>\n",
       "      <th>Release_Date</th>\n",
       "      <th>Species</th>\n",
       "      <th>Length</th>\n",
       "      <th>Geo_Location</th>\n",
       "      <th>Host</th>\n",
       "      <th>Isolation_Source</th>\n",
       "      <th>Collection_Date</th>\n",
       "      <th>Sequence</th>\n",
       "    </tr>\n",
       "  </thead>\n",
       "  <tbody>\n",
       "    <tr>\n",
       "      <th>0</th>\n",
       "      <td>MT683386</td>\n",
       "      <td>2020-07-01T00:00:00Z</td>\n",
       "      <td>Severe acute respiratory syndrome-related coro...</td>\n",
       "      <td>29858</td>\n",
       "      <td>USA</td>\n",
       "      <td>Homo sapiens</td>\n",
       "      <td>NaN</td>\n",
       "      <td>2020-04-05</td>\n",
       "      <td>GGTTTATACCTTCCCAGGTAACAAACCAACCAACTTTCGATCTCTT...</td>\n",
       "    </tr>\n",
       "    <tr>\n",
       "      <th>1</th>\n",
       "      <td>MT683387</td>\n",
       "      <td>2020-07-01T00:00:00Z</td>\n",
       "      <td>Severe acute respiratory syndrome-related coro...</td>\n",
       "      <td>29854</td>\n",
       "      <td>USA</td>\n",
       "      <td>Homo sapiens</td>\n",
       "      <td>NaN</td>\n",
       "      <td>2020-04-02</td>\n",
       "      <td>ATACCTTCCCAGGTAACAAACCAACCAACTTTCGATCTCTTGTAGA...</td>\n",
       "    </tr>\n",
       "    <tr>\n",
       "      <th>2</th>\n",
       "      <td>MT683388</td>\n",
       "      <td>2020-07-01T00:00:00Z</td>\n",
       "      <td>Severe acute respiratory syndrome-related coro...</td>\n",
       "      <td>29877</td>\n",
       "      <td>USA</td>\n",
       "      <td>Homo sapiens</td>\n",
       "      <td>NaN</td>\n",
       "      <td>2020-04-03</td>\n",
       "      <td>AAGGTTTATACCTTCCCAGGTAACAAACCTTTCAACTTTCGATCTC...</td>\n",
       "    </tr>\n",
       "    <tr>\n",
       "      <th>3</th>\n",
       "      <td>MT683389</td>\n",
       "      <td>2020-07-01T00:00:00Z</td>\n",
       "      <td>Severe acute respiratory syndrome-related coro...</td>\n",
       "      <td>29856</td>\n",
       "      <td>USA</td>\n",
       "      <td>Homo sapiens</td>\n",
       "      <td>NaN</td>\n",
       "      <td>2020-04-03</td>\n",
       "      <td>GGTAACAAACCTTTHAACTTTCGATCTCTTGTAGATCTGTTCTCTA...</td>\n",
       "    </tr>\n",
       "    <tr>\n",
       "      <th>4</th>\n",
       "      <td>MT683390</td>\n",
       "      <td>2020-07-01T00:00:00Z</td>\n",
       "      <td>Severe acute respiratory syndrome-related coro...</td>\n",
       "      <td>29668</td>\n",
       "      <td>USA</td>\n",
       "      <td>Homo sapiens</td>\n",
       "      <td>NaN</td>\n",
       "      <td>2020-04-03</td>\n",
       "      <td>GCTTACGGTTNNNNNNNNNNNNNNNNNNNNCANNNNNNCATCTAGG...</td>\n",
       "    </tr>\n",
       "  </tbody>\n",
       "</table>\n",
       "</div>"
      ],
      "text/plain": [
       "  Accession          Release_Date  \\\n",
       "0  MT683386  2020-07-01T00:00:00Z   \n",
       "1  MT683387  2020-07-01T00:00:00Z   \n",
       "2  MT683388  2020-07-01T00:00:00Z   \n",
       "3  MT683389  2020-07-01T00:00:00Z   \n",
       "4  MT683390  2020-07-01T00:00:00Z   \n",
       "\n",
       "                                             Species  Length Geo_Location  \\\n",
       "0  Severe acute respiratory syndrome-related coro...   29858          USA   \n",
       "1  Severe acute respiratory syndrome-related coro...   29854          USA   \n",
       "2  Severe acute respiratory syndrome-related coro...   29877          USA   \n",
       "3  Severe acute respiratory syndrome-related coro...   29856          USA   \n",
       "4  Severe acute respiratory syndrome-related coro...   29668          USA   \n",
       "\n",
       "           Host Isolation_Source Collection_Date  \\\n",
       "0  Homo sapiens              NaN      2020-04-05   \n",
       "1  Homo sapiens              NaN      2020-04-02   \n",
       "2  Homo sapiens              NaN      2020-04-03   \n",
       "3  Homo sapiens              NaN      2020-04-03   \n",
       "4  Homo sapiens              NaN      2020-04-03   \n",
       "\n",
       "                                            Sequence  \n",
       "0  GGTTTATACCTTCCCAGGTAACAAACCAACCAACTTTCGATCTCTT...  \n",
       "1  ATACCTTCCCAGGTAACAAACCAACCAACTTTCGATCTCTTGTAGA...  \n",
       "2  AAGGTTTATACCTTCCCAGGTAACAAACCTTTCAACTTTCGATCTC...  \n",
       "3  GGTAACAAACCTTTHAACTTTCGATCTCTTGTAGATCTGTTCTCTA...  \n",
       "4  GCTTACGGTTNNNNNNNNNNNNNNNNNNNNCANNNNNNCATCTAGG...  "
      ]
     },
     "execution_count": 3,
     "metadata": {},
     "output_type": "execute_result"
    }
   ],
   "source": [
    "df.head()"
   ]
  },
  {
   "cell_type": "code",
   "execution_count": 4,
   "metadata": {},
   "outputs": [],
   "source": [
    "df[\"Geo_Location\"].fillna(\"NA\", inplace = True)"
   ]
  },
  {
   "cell_type": "markdown",
   "metadata": {},
   "source": [
    "### See Current Class Distribution"
   ]
  },
  {
   "cell_type": "code",
   "execution_count": 5,
   "metadata": {},
   "outputs": [
    {
     "name": "stdout",
     "output_type": "stream",
     "text": [
      "USA: WA                                  733\n",
      "USA                                      733\n",
      "USA: CA                                  713\n",
      "USA: Michigan                            385\n",
      "USA: Massachusetts                       376\n",
      "USA: NY                                  292\n",
      "USA: Washington,King County              260\n",
      "USA: Washington,Yakima County            248\n",
      "USA: Washington, Yakima County           209\n",
      "USA: Virginia                            187\n",
      "USA: VA                                  179\n",
      "USA: FL                                  152\n",
      "USA: MI                                  106\n",
      "USA: Washington                           86\n",
      "USA: UT                                   71\n",
      "USA: Washington,Snohomish County          70\n",
      "USA: Washington,Pierce County             67\n",
      "USA: Connecticut                          65\n",
      "USA: CT                                   51\n",
      "USA: Washington, Pierce County            49\n",
      "USA: Washington, Snohomish County         48\n",
      "USA: ID                                   48\n",
      "USA: Washington,Whatcom County            45\n",
      "USA: MA                                   36\n",
      "USA: AK                                   29\n",
      "USA: GA                                   20\n",
      "USA: Washington, King County              16\n",
      "USA: Illinois                             16\n",
      "USA: NJ                                   13\n",
      "USA: Washington,Skagit County             12\n",
      "USA: Washington, Skagit County            12\n",
      "USA: PA                                   11\n",
      "USA: Wisconsin                            10\n",
      "USA: SC                                   10\n",
      "USA: IL                                    9\n",
      "USA: New Orleans, LA                       9\n",
      "USA: MN                                    8\n",
      "USA: San Diego, California                 8\n",
      "USA: IA                                    8\n",
      "USA: Washington,Asotin County              8\n",
      "USA: Washington,Adams County               7\n",
      "USA: King County,WA                        7\n",
      "USA: TX                                    7\n",
      "USA: San Francisco, CA                     7\n",
      "USA: NC                                    7\n",
      "USA: Washington,Grant County               5\n",
      "USA: Washington, Cowlitz County            5\n",
      "USA: IN                                    5\n",
      "USA: New York                              5\n",
      "USA: OR                                    5\n",
      "USA: Washington,Franklin County            5\n",
      "USA: NH                                    4\n",
      "USA: RI                                    4\n",
      "USA: Maricopa County, Arizona              4\n",
      "USA: HI                                    4\n",
      "USA: AZ                                    4\n",
      "USA: MD                                    4\n",
      "USA: Washington,Mason County               3\n",
      "USA: KY                                    3\n",
      "USA: OH                                    3\n",
      "USA: Dane County, Wisconsin                3\n",
      "USA: Georgia                               3\n",
      "USA: KENNER, LA                            3\n",
      "USA: Washington,Clark County               3\n",
      "USA: Washington, Franklin County           3\n",
      "USA: Ak                                    2\n",
      "USA: MARINGOUIN, LA                        2\n",
      "USA: Washington,Umatilla County            2\n",
      "USA: Washington,Benton County              2\n",
      "USA: DC                                    2\n",
      "USA: Washington, Spokane County            2\n",
      "USA: Mount Horeb, Wisconsin                2\n",
      "USA: Washington, Grant County              2\n",
      "USA: RACELAND, LA                          2\n",
      "USA: METAIRIE, LA                          2\n",
      "USA: Washington, Benton County             2\n",
      "USA: SLIDELL, LA                           2\n",
      "USA: CO                                    2\n",
      "USA: NV                                    2\n",
      "USA: Washington, Mason County              2\n",
      "USA: NE                                    2\n",
      "USA: GHEENS, LA                            1\n",
      "USA: Snohomish County, WA                  1\n",
      "USA: Lacombe, LA                           1\n",
      "USA: NEW ORLEANS, LA                       1\n",
      "USA: Maricopa Country, Arizona             1\n",
      "USA: East Feliciana Parish, Louisiana      1\n",
      "USA: VIOLET, LA                            1\n",
      "USA: Madison, Wisconsin                    1\n",
      "USA: AVONDALE, LA                          1\n",
      "USA: Verona, Wisconsin                     1\n",
      "USA: Washington, Douglas County            1\n",
      "USA: Oregon, Wisconsin                     1\n",
      "USA: Snohomish County,WA                   1\n",
      "USA: GRAY, LA                              1\n",
      "USA: TN                                    1\n",
      "USA: MARRERO, LA                           1\n",
      "USA: PR                                    1\n",
      "USA: WI                                    1\n",
      "USA: SAINT ROSE, LA                        1\n",
      "USA: California, Monterey County           1\n",
      "USA: Ohio                                  1\n",
      "USA: HOUMA, LA                             1\n",
      "USA: MO                                    1\n",
      "USA: VT                                    1\n",
      "USA: OK                                    1\n",
      "USA: CA, San Diego County                  1\n",
      "USA: Washington,Jefferson County           1\n",
      "USA: KILLONA, LA                           1\n",
      "USA: SLIDELL LA                            1\n",
      "USA: Washington,Kittitas County            1\n",
      "USA: Slidell, LA                           1\n",
      "USA: KS                                    1\n",
      "USA: CHALMETTE, LA                         1\n",
      "USA: Washington, Adams County              1\n",
      "USA: THIBODAUX,LA                          1\n",
      "USA: HAMMOND, LA                           1\n",
      "USA: LOCKPORT, LA                          1\n",
      "USA: LULING, LA                            1\n",
      "USA: North Carolina                        1\n",
      "USA: LACOMBE, LA                           1\n",
      "USA: LA                                    1\n",
      "USA: DELACROIX, LA                         1\n",
      "USA: Washington, Asotin County             1\n",
      "USA: NAPOLEONVILLE, LA                     1\n",
      "Name: Geo_Location, dtype: int64\n"
     ]
    }
   ],
   "source": [
    "with pd.option_context('display.max_rows', None, 'display.max_columns', None):\n",
    "    print(df['Geo_Location'].value_counts())"
   ]
  },
  {
   "cell_type": "code",
   "execution_count": 6,
   "metadata": {},
   "outputs": [],
   "source": [
    "USA = ['USA']\n",
    "Washington_Yakima = ['USA: Washington,Yakima County', 'USA: Washington, Yakima County']\n",
    "Washington_King = ['USA: Washington,King County', 'USA: Washington, King County', 'USA: King County,WA']\n",
    "Washington_Snohomish_Pierce = ['USA: Washington,Snohomish County', 'USA: Washington,Pierce County',\n",
    "                            'USA: Washington, Pierce County', 'USA: Washington, Snohomish County',\n",
    "                              'USA: Snohomish County,WA', 'USA: Snohomish County, WA']\n",
    "Michigan = ['USA: Michigan', 'USA: MI']\n",
    "Masachusetts = ['USA: Massachusetts', 'USA: MA']\n",
    "New_York = ['USA: NY', 'USA: New York']\n",
    "Virginia = ['USA: Virginia', 'USA: VA']\n",
    "Connecticut = ['USA: Connecticut', 'USA: CT']\n",
    "Florida = ['USA: FL']"
   ]
  },
  {
   "cell_type": "markdown",
   "metadata": {},
   "source": [
    "### Edit Classes Names"
   ]
  },
  {
   "cell_type": "code",
   "execution_count": 7,
   "metadata": {},
   "outputs": [],
   "source": [
    "for ind in df.index:\n",
    "    if df['Geo_Location'][ind] in USA:\n",
    "        continue\n",
    "#     elif df['Geo_Location'][ind] in Washington_Yakima:\n",
    "#         df['Geo_Location'][ind] = \"Yakima WA\"\n",
    "#     elif df['Geo_Location'][ind] in Washington_King:\n",
    "#         df['Geo_Location'][ind] = \"King WA\"\n",
    "#     elif df['Geo_Location'][ind] in Washington_Snohomish_Pierce:\n",
    "#         df['Geo_Location'][ind] = \"Snohomish_Pierce WA\"\n",
    "#     elif df['Geo_Location'][ind] in Washington_Yakima:\n",
    "#         df['Geo_Location'][ind] = \"Yakima WA\"\n",
    "    elif df['Geo_Location'][ind] in Michigan:\n",
    "        df['Geo_Location'][ind] = \"Michigan\"\n",
    "    elif df['Geo_Location'][ind] in Masachusetts:\n",
    "        df['Geo_Location'][ind] = \"Masachusetts\"\n",
    "    elif df['Geo_Location'][ind] in New_York:\n",
    "        df['Geo_Location'][ind] = \"New York\"\n",
    "    elif df['Geo_Location'][ind] in Virginia:\n",
    "        df['Geo_Location'][ind] = \"Virginia\"\n",
    "    elif df['Geo_Location'][ind] in Connecticut:\n",
    "        df['Geo_Location'][ind] = \"Connecticut\"\n",
    "    elif df['Geo_Location'][ind] in Florida:\n",
    "        df['Geo_Location'][ind] = \"Florida\"\n",
    "    elif df['Geo_Location'][ind].find('California') != -1 or df['Geo_Location'][ind].find('CA') != -1:\n",
    "        df['Geo_Location'][ind] = \"California\"\n",
    "    elif df['Geo_Location'][ind].find('Washington') != -1 or df['Geo_Location'][ind].find('WA') != -1:\n",
    "        df['Geo_Location'][ind] = \"Washington\"\n",
    "    else:\n",
    "         df['Geo_Location'][ind] = \"Others\""
   ]
  },
  {
   "cell_type": "code",
   "execution_count": 8,
   "metadata": {
    "scrolled": true
   },
   "outputs": [],
   "source": [
    "df = df[df.Geo_Location != 'Others']\n",
    "df = df[df.Geo_Location != 'USA']"
   ]
  },
  {
   "cell_type": "markdown",
   "metadata": {},
   "source": [
    "### See New Class Distribution"
   ]
  },
  {
   "cell_type": "code",
   "execution_count": 9,
   "metadata": {},
   "outputs": [
    {
     "name": "stdout",
     "output_type": "stream",
     "text": [
      "Washington      1920\n",
      "California       730\n",
      "Michigan         491\n",
      "Masachusetts     412\n",
      "Virginia         366\n",
      "New York         297\n",
      "Florida          152\n",
      "Connecticut      116\n",
      "Name: Geo_Location, dtype: int64\n"
     ]
    }
   ],
   "source": [
    "with pd.option_context('display.max_rows', None, 'display.max_columns', None):\n",
    "    print(df['Geo_Location'].value_counts())"
   ]
  },
  {
   "cell_type": "markdown",
   "metadata": {},
   "source": [
    "### Write to File"
   ]
  },
  {
   "cell_type": "code",
   "execution_count": 10,
   "metadata": {},
   "outputs": [],
   "source": [
    "df.to_csv('USA_removed.csv',encoding='utf-8',index=False)"
   ]
  },
  {
   "cell_type": "code",
   "execution_count": null,
   "metadata": {},
   "outputs": [],
   "source": []
  }
 ],
 "metadata": {
  "kernelspec": {
   "display_name": "Python 3",
   "language": "python",
   "name": "python3"
  },
  "language_info": {
   "codemirror_mode": {
    "name": "ipython",
    "version": 3
   },
   "file_extension": ".py",
   "mimetype": "text/x-python",
   "name": "python",
   "nbconvert_exporter": "python",
   "pygments_lexer": "ipython3",
   "version": "3.8.2"
  }
 },
 "nbformat": 4,
 "nbformat_minor": 2
}
